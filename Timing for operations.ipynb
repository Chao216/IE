{
 "cells": [
  {
   "cell_type": "code",
   "execution_count": 2,
   "id": "7af68046",
   "metadata": {},
   "outputs": [],
   "source": [
    "import numpy as np\n",
    "import pandas as pd\n",
    "import matplotlib.pyplot as plt"
   ]
  },
  {
   "cell_type": "markdown",
   "id": "29a09f8c",
   "metadata": {},
   "source": [
    "# 误差界限法 Error Limit\n",
    "### 注意 numpy 默认std函数使用 n计算，如需使用n-1 请将参数设置为ddof=1"
   ]
  },
  {
   "cell_type": "code",
   "execution_count": 21,
   "id": "8d61b0f8",
   "metadata": {},
   "outputs": [
    {
     "name": "stdout",
     "output_type": "stream",
     "text": [
      "\n",
      " 预测试样本的平均值为6.5 \n",
      " 预测试样本的标准差为0.85 \n",
      " 确保95%可信度，需要测试28.0次\n"
     ]
    }
   ],
   "source": [
    "trial = np.array([7,5,6,8,7,6,7,6,6,7])\n",
    "trial_mean = np.mean(trial)\n",
    "trial_sd = np.round(np.std(trial, ddof=1),2)\n",
    "nums = np.ceil(((40*trial_sd)/trial_mean)**2)\n",
    "print('\\n',f'预测试样本的平均值为{trial_mean}','\\n',f'预测试样本的标准差为{trial_sd}','\\n',f'确保95%可信度，需要测试{nums}次')"
   ]
  },
  {
   "cell_type": "code",
   "execution_count": 100,
   "id": "be62da9c",
   "metadata": {},
   "outputs": [],
   "source": [
    "multi_trials = np.array([[7,5,6,8,7,6,7,6,6,7],[7,5,6,8,7,6,7,6,6,7],[7,5,6,8,7,6,7,6,6,7],[7,5,6,8,7,6,7,6,6,7],[7,5,6,8,7,6,7,6,6,7],[7,5,6,8,7,6,7,6,6,7],[7,5,6,8,7,6,7,6,6,7],[7,5,6,8,7,6,7,6,6,7],[7,5,6,8,7,6,7,6,6,7],[7,5,6,8,7,6,7,6,6,7]])"
   ]
  },
  {
   "cell_type": "code",
   "execution_count": 101,
   "id": "4a8cafeb",
   "metadata": {},
   "outputs": [
    {
     "name": "stdout",
     "output_type": "stream",
     "text": [
      "[[7 5 6 8 7 6 7 6 6 7]\n",
      " [7 5 6 8 7 6 7 6 6 7]\n",
      " [7 5 6 8 7 6 7 6 6 7]\n",
      " [7 5 6 8 7 6 7 6 6 7]\n",
      " [7 5 6 8 7 6 7 6 6 7]\n",
      " [7 5 6 8 7 6 7 6 6 7]\n",
      " [7 5 6 8 7 6 7 6 6 7]\n",
      " [7 5 6 8 7 6 7 6 6 7]\n",
      " [7 5 6 8 7 6 7 6 6 7]\n",
      " [7 5 6 8 7 6 7 6 6 7]]\n"
     ]
    }
   ],
   "source": [
    "print(multi_trials)"
   ]
  },
  {
   "cell_type": "code",
   "execution_count": 102,
   "id": "954afbb6",
   "metadata": {
    "scrolled": false
   },
   "outputs": [
    {
     "name": "stdout",
     "output_type": "stream",
     "text": [
      "\n",
      " 预测试样本的平均值为6.5 \n",
      " 预测试样本的标准差为0.8498365855987975 \n",
      " 确保95%可信度，需要测试28.0次\n",
      "\n",
      " 预测试样本的平均值为6.5 \n",
      " 预测试样本的标准差为0.8498365855987975 \n",
      " 确保95%可信度，需要测试28.0次\n",
      "\n",
      " 预测试样本的平均值为6.5 \n",
      " 预测试样本的标准差为0.8498365855987975 \n",
      " 确保95%可信度，需要测试28.0次\n",
      "\n",
      " 预测试样本的平均值为6.5 \n",
      " 预测试样本的标准差为0.8498365855987975 \n",
      " 确保95%可信度，需要测试28.0次\n",
      "\n",
      " 预测试样本的平均值为6.5 \n",
      " 预测试样本的标准差为0.8498365855987975 \n",
      " 确保95%可信度，需要测试28.0次\n",
      "\n",
      " 预测试样本的平均值为6.5 \n",
      " 预测试样本的标准差为0.8498365855987975 \n",
      " 确保95%可信度，需要测试28.0次\n",
      "\n",
      " 预测试样本的平均值为6.5 \n",
      " 预测试样本的标准差为0.8498365855987975 \n",
      " 确保95%可信度，需要测试28.0次\n",
      "\n",
      " 预测试样本的平均值为6.5 \n",
      " 预测试样本的标准差为0.8498365855987975 \n",
      " 确保95%可信度，需要测试28.0次\n",
      "\n",
      " 预测试样本的平均值为6.5 \n",
      " 预测试样本的标准差为0.8498365855987975 \n",
      " 确保95%可信度，需要测试28.0次\n",
      "\n",
      " 预测试样本的平均值为6.5 \n",
      " 预测试样本的标准差为0.8498365855987975 \n",
      " 确保95%可信度，需要测试28.0次\n"
     ]
    }
   ],
   "source": [
    "for i in multi_trials:\n",
    "    mean = np.mean(i)\n",
    "    sd = np.std(i, ddof=1)\n",
    "    nums = np.ceil(((40*sd)/mean)**2)\n",
    "    print('\\n',f'预测试样本的平均值为{mean}','\\n',f'预测试样本的标准差为{sd}','\\n',f'确保95%可信度，需要测试{nums}次')\n",
    "    "
   ]
  },
  {
   "cell_type": "code",
   "execution_count": 22,
   "id": "9bcec420",
   "metadata": {},
   "outputs": [
    {
     "name": "stdout",
     "output_type": "stream",
     "text": [
      "10\n"
     ]
    }
   ],
   "source": [
    "print(len(trial))"
   ]
  },
  {
   "cell_type": "code",
   "execution_count": 23,
   "id": "c406f80b",
   "metadata": {},
   "outputs": [
    {
     "name": "stdout",
     "output_type": "stream",
     "text": [
      "3\n"
     ]
    }
   ],
   "source": [
    "print(max(trial)-min(trial))"
   ]
  },
  {
   "cell_type": "markdown",
   "id": "c6a00787",
   "metadata": {},
   "source": [
    "# d2法"
   ]
  },
  {
   "cell_type": "code",
   "execution_count": 33,
   "id": "ef158b0d",
   "metadata": {},
   "outputs": [],
   "source": [
    "d2_table = dict({2:1.128,3:1.693,4:2.059,5:2.326,6:2.534,7:2.704,8:2.847,9:2.970,10:3.078,11:3.173,12:3.258,13:3.336,14:3.407,15:3.472,16:3.532,17:3.588,18:3.640,19:3.689,20:3.735,21:3.778,22:3.819,23:3.858,24:3.895,25:3.931})"
   ]
  },
  {
   "cell_type": "code",
   "execution_count": 34,
   "id": "51bb2349",
   "metadata": {},
   "outputs": [
    {
     "name": "stdout",
     "output_type": "stream",
     "text": [
      "2\n",
      "3\n",
      "4\n",
      "5\n",
      "6\n",
      "7\n",
      "8\n",
      "9\n",
      "10\n",
      "11\n",
      "12\n",
      "13\n",
      "14\n",
      "15\n",
      "16\n",
      "17\n",
      "18\n",
      "19\n",
      "20\n",
      "21\n",
      "22\n",
      "23\n",
      "24\n",
      "25\n"
     ]
    }
   ],
   "source": [
    "for i in d2_table.keys():\n",
    "    print(i)"
   ]
  },
  {
   "cell_type": "code",
   "execution_count": 35,
   "id": "b18bdd7a",
   "metadata": {},
   "outputs": [
    {
     "name": "stdout",
     "output_type": "stream",
     "text": [
      "1.128\n",
      "1.693\n",
      "2.059\n",
      "2.326\n",
      "2.534\n",
      "2.704\n",
      "2.847\n",
      "2.97\n",
      "3.078\n",
      "3.173\n",
      "3.258\n",
      "3.336\n",
      "3.407\n",
      "3.472\n",
      "3.532\n",
      "3.588\n",
      "3.64\n",
      "3.689\n",
      "3.735\n",
      "3.778\n",
      "3.819\n",
      "3.858\n",
      "3.895\n",
      "3.931\n"
     ]
    }
   ],
   "source": [
    "for j in d2_table.values():\n",
    "    print(j)"
   ]
  },
  {
   "cell_type": "code",
   "execution_count": 38,
   "id": "ecdfdb76",
   "metadata": {},
   "outputs": [
    {
     "name": "stdout",
     "output_type": "stream",
     "text": [
      "根据d2 系数表计算，需要测试35.0次以保持95%以上置信\n"
     ]
    }
   ],
   "source": [
    "trial2 = np.array([6,7,5,6,7,8,7,7,6,7])\n",
    "trial2_mean = np.mean(trial2)\n",
    "Range = max(trial2)-min(trial2)\n",
    "d2_temp = d2_table.get(len(trial2))\n",
    "nums = np.ceil(((40*Range/d2_temp)/trial2_mean)**2)\n",
    "print(f'根据d2 系数表计算，需要测试{nums}次以保持95%以上置信')\n"
   ]
  },
  {
   "cell_type": "markdown",
   "id": "bfc092e1",
   "metadata": {},
   "source": [
    "# 过滤异常值"
   ]
  },
  {
   "cell_type": "code",
   "execution_count": 84,
   "id": "33f37cb0",
   "metadata": {},
   "outputs": [],
   "source": [
    "dirty = np.array([-10,5,5,5.1,4.9,5,5.3,4.8,4.7,5.5,19,2,5,5,5,1,4.8,5,4.9,4.7,5.3])"
   ]
  },
  {
   "cell_type": "code",
   "execution_count": 85,
   "id": "51a62d86",
   "metadata": {},
   "outputs": [
    {
     "name": "stdout",
     "output_type": "stream",
     "text": [
      "[-10.    5.    5.    5.1   4.9   5.    5.3   4.8   4.7   5.5  19.    2.\n",
      "   5.    5.    5.    1.    4.8   5.    4.9   4.7   5.3]\n"
     ]
    }
   ],
   "source": [
    "print(dirty)"
   ]
  },
  {
   "cell_type": "code",
   "execution_count": 86,
   "id": "3de9bdc0",
   "metadata": {},
   "outputs": [
    {
     "name": "stdout",
     "output_type": "stream",
     "text": [
      "18.748894448669358 -9.510799210574117\n"
     ]
    }
   ],
   "source": [
    "sd = np.std(dirty, ddof=1)\n",
    "mean = np.mean(dirty)\n",
    "ub = mean + 3*sd\n",
    "lb = mean - 3*sd\n",
    "print(ub, lb)"
   ]
  },
  {
   "cell_type": "code",
   "execution_count": 87,
   "id": "428129ee",
   "metadata": {},
   "outputs": [],
   "source": [
    "clean = dirty[np.where(np.logical_and(dirty < ub,dirty > lb))]"
   ]
  },
  {
   "cell_type": "code",
   "execution_count": 88,
   "id": "2dc079f3",
   "metadata": {},
   "outputs": [
    {
     "name": "stdout",
     "output_type": "stream",
     "text": [
      "21\n"
     ]
    }
   ],
   "source": [
    "print(len(dirty))"
   ]
  },
  {
   "cell_type": "code",
   "execution_count": 89,
   "id": "a667de62",
   "metadata": {},
   "outputs": [
    {
     "name": "stdout",
     "output_type": "stream",
     "text": [
      "19\n"
     ]
    }
   ],
   "source": [
    "print(len(clean))"
   ]
  },
  {
   "cell_type": "code",
   "execution_count": 95,
   "id": "744c1238",
   "metadata": {},
   "outputs": [
    {
     "data": {
      "text/plain": [
       "<matplotlib.collections.PathCollection at 0x251c944efa0>"
      ]
     },
     "execution_count": 95,
     "metadata": {},
     "output_type": "execute_result"
    },
    {
     "data": {
      "image/png": "[encoded data removed]",
      "text/plain": [
       "<Figure size 640x480 with 1 Axes>"
      ]
     },
     "metadata": {},
     "output_type": "display_data"
    }
   ],
   "source": [
    "\n",
    "plt.scatter(np.arange(len(dirty)),dirty)"
   ]
  },
  {
   "cell_type": "code",
   "execution_count": 99,
   "id": "1ce969bc",
   "metadata": {},
   "outputs": [
    {
     "data": {
      "text/plain": [
       "<matplotlib.collections.PathCollection at 0x251c8ef5fa0>"
      ]
     },
     "execution_count": 99,
     "metadata": {},
     "output_type": "execute_result"
    },
    {
     "data": {
      "image/png": "[encoded data removed]",
      "text/plain": [
       "<Figure size 640x480 with 1 Axes>"
      ]
     },
     "metadata": {},
     "output_type": "display_data"
    }
   ],
   "source": [
    "plt.scatter(np.arange(len(clean)),clean)"
   ]
  },
  {
   "cell_type": "code",
   "execution_count": null,
   "id": "9c32a9ec",
   "metadata": {},
   "outputs": [],
   "source": []
  }
 ],
 "metadata": {
  "kernelspec": {
   "display_name": "Python 3 (ipykernel)",
   "language": "python",
   "name": "python3"
  },
  "language_info": {
   "codemirror_mode": {
    "name": "ipython",
    "version": 3
   },
   "file_extension": ".py",
   "mimetype": "text/x-python",
   "name": "python",
   "nbconvert_exporter": "python",
   "pygments_lexer": "ipython3",
   "version": "3.9.13"
  }
 },
 "nbformat": 4,
 "nbformat_minor": 5
}
